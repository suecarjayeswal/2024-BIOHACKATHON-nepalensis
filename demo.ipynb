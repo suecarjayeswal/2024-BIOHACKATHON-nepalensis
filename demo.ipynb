{
 "cells": [
  {
   "cell_type": "markdown",
   "metadata": {},
   "source": [
    "Demo Code: \n",
    "> Graph-Based Behavioral and Emotional Analysis System"
   ]
  },
  {
   "cell_type": "code",
   "execution_count": 21,
   "metadata": {},
   "outputs": [],
   "source": [
    "import argparse\n",
    "import time\n",
    "import math\n",
    "import json\n",
    "import torch\n",
    "import cv2\n",
    "from pathlib import Path\n",
    "from sklearn.metrics.pairwise import cosine_similarity\n",
    "from deepface import DeepFace\n",
    "from IPython.display import display, Image, HTML\n",
    "import matplotlib.pyplot as plt\n",
    "import matplotlib.animation as animation"
   ]
  },
  {
   "cell_type": "code",
   "execution_count": 22,
   "metadata": {},
   "outputs": [],
   "source": [
    "from emotion import detect_emotion, init\n",
    "from models.experimental import attempt_load\n",
    "from utils.datasets import LoadStreams, LoadImages\n",
    "from utils.general import check_img_size, check_requirements, non_max_suppression, scale_coords, set_logging\n",
    "from utils.torch_utils import select_device\n",
    "\n",
    "from modules.functions import *"
   ]
  },
  {
   "cell_type": "code",
   "execution_count": 23,
   "metadata": {},
   "outputs": [],
   "source": [
    "video_path = 'data/samples/Bully1Final.mp4'  \n",
    "save_path = 'results.json'  "
   ]
  },
  {
   "cell_type": "code",
   "execution_count": 24,
   "metadata": {},
   "outputs": [
    {
     "data": {
      "text/html": [
       "\n",
       "    <video width=\"640\" height=\"480\" controls>\n",
       "        <source src=\"data/samples/Bully1Final.mp4\" type=\"video/mp4\">\n",
       "        Your browser does not support the video tag.\n",
       "    </video>\n",
       "    "
      ],
      "text/plain": [
       "<IPython.core.display.HTML object>"
      ]
     },
     "metadata": {},
     "output_type": "display_data"
    }
   ],
   "source": [
    "from IPython.display import HTML\n",
    "\n",
    "def display_video(video_path):\n",
    "    # Create an HTML video tag to embed the video in the notebook\n",
    "    video_tag = f'''\n",
    "    <video width=\"640\" height=\"480\" controls>\n",
    "        <source src=\"{video_path}\" type=\"video/mp4\">\n",
    "        Your browser does not support the video tag.\n",
    "    </video>\n",
    "    '''\n",
    "    # Display the video\n",
    "    display(HTML(video_tag))\n",
    "\n",
    "# Display the video in the notebook\n",
    "display_video(video_path)"
   ]
  },
  {
   "cell_type": "markdown",
   "metadata": {},
   "source": [
    "# Display Emotions and Face Detection"
   ]
  },
  {
   "cell_type": "code",
   "execution_count": 26,
   "metadata": {},
   "outputs": [
    {
     "data": {
      "text/html": [
       "\n",
       "    <video width=\"640\" height=\"480\" controls>\n",
       "        <source src=\"data/samples/faceDetectionWithEmotion.mp4\" type=\"video/mp4\">\n",
       "        Your browser does not support the video tag.\n",
       "    </video>\n",
       "    "
      ],
      "text/plain": [
       "<IPython.core.display.HTML object>"
      ]
     },
     "metadata": {},
     "output_type": "display_data"
    }
   ],
   "source": [
    "display_video('data/samples/faceDetectionWithEmotion.mp4'  )"
   ]
  },
  {
   "cell_type": "markdown",
   "metadata": {},
   "source": [
    "# Extract the influenced_rate of each node"
   ]
  },
  {
   "cell_type": "code",
   "execution_count": 25,
   "metadata": {},
   "outputs": [
    {
     "name": "stderr",
     "output_type": "stream",
     "text": [
      "YOLOv5  2024-12-20 torch 2.5.1+cpu CPU\n",
      "\n",
      "Fusing layers... \n",
      "Model Summary: 224 layers, 6048051 parameters, 0 gradients, 13.2 GFLOPS\n"
     ]
    },
    {
     "name": "stdout",
     "output_type": "stream",
     "text": [
      "video 1/1 (1/364) e:\\KU\\Events\\2024 BIOHACKATHON nepalensis\\data\\samples\\Bully1Final.mp4: video 1/1 (2/364) e:\\KU\\Events\\2024 BIOHACKATHON nepalensis\\data\\samples\\Bully1Final.mp4: video 1/1 (3/364) e:\\KU\\Events\\2024 BIOHACKATHON nepalensis\\data\\samples\\Bully1Final.mp4: video 1/1 (4/364) e:\\KU\\Events\\2024 BIOHACKATHON nepalensis\\data\\samples\\Bully1Final.mp4: video 1/1 (5/364) e:\\KU\\Events\\2024 BIOHACKATHON nepalensis\\data\\samples\\Bully1Final.mp4: video 1/1 (6/364) e:\\KU\\Events\\2024 BIOHACKATHON nepalensis\\data\\samples\\Bully1Final.mp4: video 1/1 (7/364) e:\\KU\\Events\\2024 BIOHACKATHON nepalensis\\data\\samples\\Bully1Final.mp4: video 1/1 (8/364) e:\\KU\\Events\\2024 BIOHACKATHON nepalensis\\data\\samples\\Bully1Final.mp4: video 1/1 (9/364) e:\\KU\\Events\\2024 BIOHACKATHON nepalensis\\data\\samples\\Bully1Final.mp4: video 1/1 (10/364) e:\\KU\\Events\\2024 BIOHACKATHON nepalensis\\data\\samples\\Bully1Final.mp4: video 1/1 (11/364) e:\\KU\\Events\\2024 BIOHACKATHON nepalensis\\data\\samples\\Bully1Final.mp4: video 1/1 (12/364) e:\\KU\\Events\\2024 BIOHACKATHON nepalensis\\data\\samples\\Bully1Final.mp4: video 1/1 (13/364) e:\\KU\\Events\\2024 BIOHACKATHON nepalensis\\data\\samples\\Bully1Final.mp4: video 1/1 (14/364) e:\\KU\\Events\\2024 BIOHACKATHON nepalensis\\data\\samples\\Bully1Final.mp4: video 1/1 (15/364) e:\\KU\\Events\\2024 BIOHACKATHON nepalensis\\data\\samples\\Bully1Final.mp4: video 1/1 (16/364) e:\\KU\\Events\\2024 BIOHACKATHON nepalensis\\data\\samples\\Bully1Final.mp4: video 1/1 (17/364) e:\\KU\\Events\\2024 BIOHACKATHON nepalensis\\data\\samples\\Bully1Final.mp4: video 1/1 (18/364) e:\\KU\\Events\\2024 BIOHACKATHON nepalensis\\data\\samples\\Bully1Final.mp4: video 1/1 (19/364) e:\\KU\\Events\\2024 BIOHACKATHON nepalensis\\data\\samples\\Bully1Final.mp4: video 1/1 (20/364) e:\\KU\\Events\\2024 BIOHACKATHON nepalensis\\data\\samples\\Bully1Final.mp4: video 1/1 (21/364) e:\\KU\\Events\\2024 BIOHACKATHON nepalensis\\data\\samples\\Bully1Final.mp4: video 1/1 (22/364) e:\\KU\\Events\\2024 BIOHACKATHON nepalensis\\data\\samples\\Bully1Final.mp4: video 1/1 (23/364) e:\\KU\\Events\\2024 BIOHACKATHON nepalensis\\data\\samples\\Bully1Final.mp4: video 1/1 (24/364) e:\\KU\\Events\\2024 BIOHACKATHON nepalensis\\data\\samples\\Bully1Final.mp4: video 1/1 (25/364) e:\\KU\\Events\\2024 BIOHACKATHON nepalensis\\data\\samples\\Bully1Final.mp4: video 1/1 (26/364) e:\\KU\\Events\\2024 BIOHACKATHON nepalensis\\data\\samples\\Bully1Final.mp4: video 1/1 (27/364) e:\\KU\\Events\\2024 BIOHACKATHON nepalensis\\data\\samples\\Bully1Final.mp4: video 1/1 (28/364) e:\\KU\\Events\\2024 BIOHACKATHON nepalensis\\data\\samples\\Bully1Final.mp4: video 1/1 (29/364) e:\\KU\\Events\\2024 BIOHACKATHON nepalensis\\data\\samples\\Bully1Final.mp4: video 1/1 (30/364) e:\\KU\\Events\\2024 BIOHACKATHON nepalensis\\data\\samples\\Bully1Final.mp4: video 1/1 (31/364) e:\\KU\\Events\\2024 BIOHACKATHON nepalensis\\data\\samples\\Bully1Final.mp4: video 1/1 (32/364) e:\\KU\\Events\\2024 BIOHACKATHON nepalensis\\data\\samples\\Bully1Final.mp4: video 1/1 (33/364) e:\\KU\\Events\\2024 BIOHACKATHON nepalensis\\data\\samples\\Bully1Final.mp4: video 1/1 (34/364) e:\\KU\\Events\\2024 BIOHACKATHON nepalensis\\data\\samples\\Bully1Final.mp4: video 1/1 (35/364) e:\\KU\\Events\\2024 BIOHACKATHON nepalensis\\data\\samples\\Bully1Final.mp4: video 1/1 (36/364) e:\\KU\\Events\\2024 BIOHACKATHON nepalensis\\data\\samples\\Bully1Final.mp4: video 1/1 (37/364) e:\\KU\\Events\\2024 BIOHACKATHON nepalensis\\data\\samples\\Bully1Final.mp4: video 1/1 (38/364) e:\\KU\\Events\\2024 BIOHACKATHON nepalensis\\data\\samples\\Bully1Final.mp4: video 1/1 (39/364) e:\\KU\\Events\\2024 BIOHACKATHON nepalensis\\data\\samples\\Bully1Final.mp4: video 1/1 (40/364) e:\\KU\\Events\\2024 BIOHACKATHON nepalensis\\data\\samples\\Bully1Final.mp4: video 1/1 (41/364) e:\\KU\\Events\\2024 BIOHACKATHON nepalensis\\data\\samples\\Bully1Final.mp4: video 1/1 (42/364) e:\\KU\\Events\\2024 BIOHACKATHON nepalensis\\data\\samples\\Bully1Final.mp4: video 1/1 (43/364) e:\\KU\\Events\\2024 BIOHACKATHON nepalensis\\data\\samples\\Bully1Final.mp4: video 1/1 (44/364) e:\\KU\\Events\\2024 BIOHACKATHON nepalensis\\data\\samples\\Bully1Final.mp4: video 1/1 (45/364) e:\\KU\\Events\\2024 BIOHACKATHON nepalensis\\data\\samples\\Bully1Final.mp4: video 1/1 (46/364) e:\\KU\\Events\\2024 BIOHACKATHON nepalensis\\data\\samples\\Bully1Final.mp4: video 1/1 (47/364) e:\\KU\\Events\\2024 BIOHACKATHON nepalensis\\data\\samples\\Bully1Final.mp4: video 1/1 (48/364) e:\\KU\\Events\\2024 BIOHACKATHON nepalensis\\data\\samples\\Bully1Final.mp4: video 1/1 (49/364) e:\\KU\\Events\\2024 BIOHACKATHON nepalensis\\data\\samples\\Bully1Final.mp4: video 1/1 (50/364) e:\\KU\\Events\\2024 BIOHACKATHON nepalensis\\data\\samples\\Bully1Final.mp4: video 1/1 (51/364) e:\\KU\\Events\\2024 BIOHACKATHON nepalensis\\data\\samples\\Bully1Final.mp4: video 1/1 (52/364) e:\\KU\\Events\\2024 BIOHACKATHON nepalensis\\data\\samples\\Bully1Final.mp4: video 1/1 (53/364) e:\\KU\\Events\\2024 BIOHACKATHON nepalensis\\data\\samples\\Bully1Final.mp4: video 1/1 (54/364) e:\\KU\\Events\\2024 BIOHACKATHON nepalensis\\data\\samples\\Bully1Final.mp4: video 1/1 (55/364) e:\\KU\\Events\\2024 BIOHACKATHON nepalensis\\data\\samples\\Bully1Final.mp4: video 1/1 (56/364) e:\\KU\\Events\\2024 BIOHACKATHON nepalensis\\data\\samples\\Bully1Final.mp4: video 1/1 (57/364) e:\\KU\\Events\\2024 BIOHACKATHON nepalensis\\data\\samples\\Bully1Final.mp4: video 1/1 (58/364) e:\\KU\\Events\\2024 BIOHACKATHON nepalensis\\data\\samples\\Bully1Final.mp4: video 1/1 (59/364) e:\\KU\\Events\\2024 BIOHACKATHON nepalensis\\data\\samples\\Bully1Final.mp4: video 1/1 (60/364) e:\\KU\\Events\\2024 BIOHACKATHON nepalensis\\data\\samples\\Bully1Final.mp4: video 1/1 (61/364) e:\\KU\\Events\\2024 BIOHACKATHON nepalensis\\data\\samples\\Bully1Final.mp4: video 1/1 (62/364) e:\\KU\\Events\\2024 BIOHACKATHON nepalensis\\data\\samples\\Bully1Final.mp4: video 1/1 (63/364) e:\\KU\\Events\\2024 BIOHACKATHON nepalensis\\data\\samples\\Bully1Final.mp4: video 1/1 (64/364) e:\\KU\\Events\\2024 BIOHACKATHON nepalensis\\data\\samples\\Bully1Final.mp4: video 1/1 (65/364) e:\\KU\\Events\\2024 BIOHACKATHON nepalensis\\data\\samples\\Bully1Final.mp4: video 1/1 (66/364) e:\\KU\\Events\\2024 BIOHACKATHON nepalensis\\data\\samples\\Bully1Final.mp4: video 1/1 (67/364) e:\\KU\\Events\\2024 BIOHACKATHON nepalensis\\data\\samples\\Bully1Final.mp4: video 1/1 (68/364) e:\\KU\\Events\\2024 BIOHACKATHON nepalensis\\data\\samples\\Bully1Final.mp4: video 1/1 (69/364) e:\\KU\\Events\\2024 BIOHACKATHON nepalensis\\data\\samples\\Bully1Final.mp4: video 1/1 (70/364) e:\\KU\\Events\\2024 BIOHACKATHON nepalensis\\data\\samples\\Bully1Final.mp4: video 1/1 (71/364) e:\\KU\\Events\\2024 BIOHACKATHON nepalensis\\data\\samples\\Bully1Final.mp4: video 1/1 (72/364) e:\\KU\\Events\\2024 BIOHACKATHON nepalensis\\data\\samples\\Bully1Final.mp4: video 1/1 (73/364) e:\\KU\\Events\\2024 BIOHACKATHON nepalensis\\data\\samples\\Bully1Final.mp4: video 1/1 (74/364) e:\\KU\\Events\\2024 BIOHACKATHON nepalensis\\data\\samples\\Bully1Final.mp4: video 1/1 (75/364) e:\\KU\\Events\\2024 BIOHACKATHON nepalensis\\data\\samples\\Bully1Final.mp4: video 1/1 (76/364) e:\\KU\\Events\\2024 BIOHACKATHON nepalensis\\data\\samples\\Bully1Final.mp4: video 1/1 (77/364) e:\\KU\\Events\\2024 BIOHACKATHON nepalensis\\data\\samples\\Bully1Final.mp4: video 1/1 (78/364) e:\\KU\\Events\\2024 BIOHACKATHON nepalensis\\data\\samples\\Bully1Final.mp4: video 1/1 (79/364) e:\\KU\\Events\\2024 BIOHACKATHON nepalensis\\data\\samples\\Bully1Final.mp4: video 1/1 (80/364) e:\\KU\\Events\\2024 BIOHACKATHON nepalensis\\data\\samples\\Bully1Final.mp4: video 1/1 (81/364) e:\\KU\\Events\\2024 BIOHACKATHON nepalensis\\data\\samples\\Bully1Final.mp4: video 1/1 (82/364) e:\\KU\\Events\\2024 BIOHACKATHON nepalensis\\data\\samples\\Bully1Final.mp4: video 1/1 (83/364) e:\\KU\\Events\\2024 BIOHACKATHON nepalensis\\data\\samples\\Bully1Final.mp4: video 1/1 (84/364) e:\\KU\\Events\\2024 BIOHACKATHON nepalensis\\data\\samples\\Bully1Final.mp4: video 1/1 (85/364) e:\\KU\\Events\\2024 BIOHACKATHON nepalensis\\data\\samples\\Bully1Final.mp4: video 1/1 (86/364) e:\\KU\\Events\\2024 BIOHACKATHON nepalensis\\data\\samples\\Bully1Final.mp4: video 1/1 (87/364) e:\\KU\\Events\\2024 BIOHACKATHON nepalensis\\data\\samples\\Bully1Final.mp4: video 1/1 (88/364) e:\\KU\\Events\\2024 BIOHACKATHON nepalensis\\data\\samples\\Bully1Final.mp4: video 1/1 (89/364) e:\\KU\\Events\\2024 BIOHACKATHON nepalensis\\data\\samples\\Bully1Final.mp4: video 1/1 (90/364) e:\\KU\\Events\\2024 BIOHACKATHON nepalensis\\data\\samples\\Bully1Final.mp4: video 1/1 (91/364) e:\\KU\\Events\\2024 BIOHACKATHON nepalensis\\data\\samples\\Bully1Final.mp4: video 1/1 (92/364) e:\\KU\\Events\\2024 BIOHACKATHON nepalensis\\data\\samples\\Bully1Final.mp4: video 1/1 (93/364) e:\\KU\\Events\\2024 BIOHACKATHON nepalensis\\data\\samples\\Bully1Final.mp4: video 1/1 (94/364) e:\\KU\\Events\\2024 BIOHACKATHON nepalensis\\data\\samples\\Bully1Final.mp4: video 1/1 (95/364) e:\\KU\\Events\\2024 BIOHACKATHON nepalensis\\data\\samples\\Bully1Final.mp4: video 1/1 (96/364) e:\\KU\\Events\\2024 BIOHACKATHON nepalensis\\data\\samples\\Bully1Final.mp4: video 1/1 (97/364) e:\\KU\\Events\\2024 BIOHACKATHON nepalensis\\data\\samples\\Bully1Final.mp4: video 1/1 (98/364) e:\\KU\\Events\\2024 BIOHACKATHON nepalensis\\data\\samples\\Bully1Final.mp4: video 1/1 (99/364) e:\\KU\\Events\\2024 BIOHACKATHON nepalensis\\data\\samples\\Bully1Final.mp4: video 1/1 (100/364) e:\\KU\\Events\\2024 BIOHACKATHON nepalensis\\data\\samples\\Bully1Final.mp4: video 1/1 (101/364) e:\\KU\\Events\\2024 BIOHACKATHON nepalensis\\data\\samples\\Bully1Final.mp4: video 1/1 (102/364) e:\\KU\\Events\\2024 BIOHACKATHON nepalensis\\data\\samples\\Bully1Final.mp4: video 1/1 (103/364) e:\\KU\\Events\\2024 BIOHACKATHON nepalensis\\data\\samples\\Bully1Final.mp4: video 1/1 (104/364) e:\\KU\\Events\\2024 BIOHACKATHON nepalensis\\data\\samples\\Bully1Final.mp4: video 1/1 (105/364) e:\\KU\\Events\\2024 BIOHACKATHON nepalensis\\data\\samples\\Bully1Final.mp4: video 1/1 (106/364) e:\\KU\\Events\\2024 BIOHACKATHON nepalensis\\data\\samples\\Bully1Final.mp4: video 1/1 (107/364) e:\\KU\\Events\\2024 BIOHACKATHON nepalensis\\data\\samples\\Bully1Final.mp4: video 1/1 (108/364) e:\\KU\\Events\\2024 BIOHACKATHON nepalensis\\data\\samples\\Bully1Final.mp4: video 1/1 (109/364) e:\\KU\\Events\\2024 BIOHACKATHON nepalensis\\data\\samples\\Bully1Final.mp4: video 1/1 (110/364) e:\\KU\\Events\\2024 BIOHACKATHON nepalensis\\data\\samples\\Bully1Final.mp4: video 1/1 (111/364) e:\\KU\\Events\\2024 BIOHACKATHON nepalensis\\data\\samples\\Bully1Final.mp4: video 1/1 (112/364) e:\\KU\\Events\\2024 BIOHACKATHON nepalensis\\data\\samples\\Bully1Final.mp4: video 1/1 (113/364) e:\\KU\\Events\\2024 BIOHACKATHON nepalensis\\data\\samples\\Bully1Final.mp4: video 1/1 (114/364) e:\\KU\\Events\\2024 BIOHACKATHON nepalensis\\data\\samples\\Bully1Final.mp4: video 1/1 (115/364) e:\\KU\\Events\\2024 BIOHACKATHON nepalensis\\data\\samples\\Bully1Final.mp4: video 1/1 (116/364) e:\\KU\\Events\\2024 BIOHACKATHON nepalensis\\data\\samples\\Bully1Final.mp4: video 1/1 (117/364) e:\\KU\\Events\\2024 BIOHACKATHON nepalensis\\data\\samples\\Bully1Final.mp4: video 1/1 (118/364) e:\\KU\\Events\\2024 BIOHACKATHON nepalensis\\data\\samples\\Bully1Final.mp4: video 1/1 (119/364) e:\\KU\\Events\\2024 BIOHACKATHON nepalensis\\data\\samples\\Bully1Final.mp4: video 1/1 (120/364) e:\\KU\\Events\\2024 BIOHACKATHON nepalensis\\data\\samples\\Bully1Final.mp4: video 1/1 (121/364) e:\\KU\\Events\\2024 BIOHACKATHON nepalensis\\data\\samples\\Bully1Final.mp4: video 1/1 (122/364) e:\\KU\\Events\\2024 BIOHACKATHON nepalensis\\data\\samples\\Bully1Final.mp4: video 1/1 (123/364) e:\\KU\\Events\\2024 BIOHACKATHON nepalensis\\data\\samples\\Bully1Final.mp4: video 1/1 (124/364) e:\\KU\\Events\\2024 BIOHACKATHON nepalensis\\data\\samples\\Bully1Final.mp4: video 1/1 (125/364) e:\\KU\\Events\\2024 BIOHACKATHON nepalensis\\data\\samples\\Bully1Final.mp4: video 1/1 (126/364) e:\\KU\\Events\\2024 BIOHACKATHON nepalensis\\data\\samples\\Bully1Final.mp4: video 1/1 (127/364) e:\\KU\\Events\\2024 BIOHACKATHON nepalensis\\data\\samples\\Bully1Final.mp4: video 1/1 (128/364) e:\\KU\\Events\\2024 BIOHACKATHON nepalensis\\data\\samples\\Bully1Final.mp4: video 1/1 (129/364) e:\\KU\\Events\\2024 BIOHACKATHON nepalensis\\data\\samples\\Bully1Final.mp4: video 1/1 (130/364) e:\\KU\\Events\\2024 BIOHACKATHON nepalensis\\data\\samples\\Bully1Final.mp4: video 1/1 (131/364) e:\\KU\\Events\\2024 BIOHACKATHON nepalensis\\data\\samples\\Bully1Final.mp4: video 1/1 (132/364) e:\\KU\\Events\\2024 BIOHACKATHON nepalensis\\data\\samples\\Bully1Final.mp4: video 1/1 (133/364) e:\\KU\\Events\\2024 BIOHACKATHON nepalensis\\data\\samples\\Bully1Final.mp4: video 1/1 (134/364) e:\\KU\\Events\\2024 BIOHACKATHON nepalensis\\data\\samples\\Bully1Final.mp4: video 1/1 (135/364) e:\\KU\\Events\\2024 BIOHACKATHON nepalensis\\data\\samples\\Bully1Final.mp4: video 1/1 (136/364) e:\\KU\\Events\\2024 BIOHACKATHON nepalensis\\data\\samples\\Bully1Final.mp4: video 1/1 (137/364) e:\\KU\\Events\\2024 BIOHACKATHON nepalensis\\data\\samples\\Bully1Final.mp4: video 1/1 (138/364) e:\\KU\\Events\\2024 BIOHACKATHON nepalensis\\data\\samples\\Bully1Final.mp4: video 1/1 (139/364) e:\\KU\\Events\\2024 BIOHACKATHON nepalensis\\data\\samples\\Bully1Final.mp4: video 1/1 (140/364) e:\\KU\\Events\\2024 BIOHACKATHON nepalensis\\data\\samples\\Bully1Final.mp4: video 1/1 (141/364) e:\\KU\\Events\\2024 BIOHACKATHON nepalensis\\data\\samples\\Bully1Final.mp4: video 1/1 (142/364) e:\\KU\\Events\\2024 BIOHACKATHON nepalensis\\data\\samples\\Bully1Final.mp4: video 1/1 (143/364) e:\\KU\\Events\\2024 BIOHACKATHON nepalensis\\data\\samples\\Bully1Final.mp4: video 1/1 (144/364) e:\\KU\\Events\\2024 BIOHACKATHON nepalensis\\data\\samples\\Bully1Final.mp4: video 1/1 (145/364) e:\\KU\\Events\\2024 BIOHACKATHON nepalensis\\data\\samples\\Bully1Final.mp4: video 1/1 (146/364) e:\\KU\\Events\\2024 BIOHACKATHON nepalensis\\data\\samples\\Bully1Final.mp4: video 1/1 (147/364) e:\\KU\\Events\\2024 BIOHACKATHON nepalensis\\data\\samples\\Bully1Final.mp4: video 1/1 (148/364) e:\\KU\\Events\\2024 BIOHACKATHON nepalensis\\data\\samples\\Bully1Final.mp4: video 1/1 (149/364) e:\\KU\\Events\\2024 BIOHACKATHON nepalensis\\data\\samples\\Bully1Final.mp4: video 1/1 (150/364) e:\\KU\\Events\\2024 BIOHACKATHON nepalensis\\data\\samples\\Bully1Final.mp4: video 1/1 (151/364) e:\\KU\\Events\\2024 BIOHACKATHON nepalensis\\data\\samples\\Bully1Final.mp4: video 1/1 (152/364) e:\\KU\\Events\\2024 BIOHACKATHON nepalensis\\data\\samples\\Bully1Final.mp4: video 1/1 (153/364) e:\\KU\\Events\\2024 BIOHACKATHON nepalensis\\data\\samples\\Bully1Final.mp4: video 1/1 (154/364) e:\\KU\\Events\\2024 BIOHACKATHON nepalensis\\data\\samples\\Bully1Final.mp4: video 1/1 (155/364) e:\\KU\\Events\\2024 BIOHACKATHON nepalensis\\data\\samples\\Bully1Final.mp4: video 1/1 (156/364) e:\\KU\\Events\\2024 BIOHACKATHON nepalensis\\data\\samples\\Bully1Final.mp4: video 1/1 (157/364) e:\\KU\\Events\\2024 BIOHACKATHON nepalensis\\data\\samples\\Bully1Final.mp4: video 1/1 (158/364) e:\\KU\\Events\\2024 BIOHACKATHON nepalensis\\data\\samples\\Bully1Final.mp4: video 1/1 (159/364) e:\\KU\\Events\\2024 BIOHACKATHON nepalensis\\data\\samples\\Bully1Final.mp4: video 1/1 (160/364) e:\\KU\\Events\\2024 BIOHACKATHON nepalensis\\data\\samples\\Bully1Final.mp4: video 1/1 (161/364) e:\\KU\\Events\\2024 BIOHACKATHON nepalensis\\data\\samples\\Bully1Final.mp4: video 1/1 (162/364) e:\\KU\\Events\\2024 BIOHACKATHON nepalensis\\data\\samples\\Bully1Final.mp4: video 1/1 (163/364) e:\\KU\\Events\\2024 BIOHACKATHON nepalensis\\data\\samples\\Bully1Final.mp4: video 1/1 (164/364) e:\\KU\\Events\\2024 BIOHACKATHON nepalensis\\data\\samples\\Bully1Final.mp4: video 1/1 (165/364) e:\\KU\\Events\\2024 BIOHACKATHON nepalensis\\data\\samples\\Bully1Final.mp4: video 1/1 (166/364) e:\\KU\\Events\\2024 BIOHACKATHON nepalensis\\data\\samples\\Bully1Final.mp4: video 1/1 (167/364) e:\\KU\\Events\\2024 BIOHACKATHON nepalensis\\data\\samples\\Bully1Final.mp4: video 1/1 (168/364) e:\\KU\\Events\\2024 BIOHACKATHON nepalensis\\data\\samples\\Bully1Final.mp4: video 1/1 (169/364) e:\\KU\\Events\\2024 BIOHACKATHON nepalensis\\data\\samples\\Bully1Final.mp4: video 1/1 (170/364) e:\\KU\\Events\\2024 BIOHACKATHON nepalensis\\data\\samples\\Bully1Final.mp4: video 1/1 (171/364) e:\\KU\\Events\\2024 BIOHACKATHON nepalensis\\data\\samples\\Bully1Final.mp4: video 1/1 (172/364) e:\\KU\\Events\\2024 BIOHACKATHON nepalensis\\data\\samples\\Bully1Final.mp4: video 1/1 (173/364) e:\\KU\\Events\\2024 BIOHACKATHON nepalensis\\data\\samples\\Bully1Final.mp4: video 1/1 (174/364) e:\\KU\\Events\\2024 BIOHACKATHON nepalensis\\data\\samples\\Bully1Final.mp4: video 1/1 (175/364) e:\\KU\\Events\\2024 BIOHACKATHON nepalensis\\data\\samples\\Bully1Final.mp4: video 1/1 (176/364) e:\\KU\\Events\\2024 BIOHACKATHON nepalensis\\data\\samples\\Bully1Final.mp4: video 1/1 (177/364) e:\\KU\\Events\\2024 BIOHACKATHON nepalensis\\data\\samples\\Bully1Final.mp4: video 1/1 (178/364) e:\\KU\\Events\\2024 BIOHACKATHON nepalensis\\data\\samples\\Bully1Final.mp4: video 1/1 (179/364) e:\\KU\\Events\\2024 BIOHACKATHON nepalensis\\data\\samples\\Bully1Final.mp4: video 1/1 (180/364) e:\\KU\\Events\\2024 BIOHACKATHON nepalensis\\data\\samples\\Bully1Final.mp4: video 1/1 (181/364) e:\\KU\\Events\\2024 BIOHACKATHON nepalensis\\data\\samples\\Bully1Final.mp4: video 1/1 (182/364) e:\\KU\\Events\\2024 BIOHACKATHON nepalensis\\data\\samples\\Bully1Final.mp4: video 1/1 (183/364) e:\\KU\\Events\\2024 BIOHACKATHON nepalensis\\data\\samples\\Bully1Final.mp4: video 1/1 (184/364) e:\\KU\\Events\\2024 BIOHACKATHON nepalensis\\data\\samples\\Bully1Final.mp4: video 1/1 (185/364) e:\\KU\\Events\\2024 BIOHACKATHON nepalensis\\data\\samples\\Bully1Final.mp4: video 1/1 (186/364) e:\\KU\\Events\\2024 BIOHACKATHON nepalensis\\data\\samples\\Bully1Final.mp4: video 1/1 (187/364) e:\\KU\\Events\\2024 BIOHACKATHON nepalensis\\data\\samples\\Bully1Final.mp4: video 1/1 (188/364) e:\\KU\\Events\\2024 BIOHACKATHON nepalensis\\data\\samples\\Bully1Final.mp4: video 1/1 (189/364) e:\\KU\\Events\\2024 BIOHACKATHON nepalensis\\data\\samples\\Bully1Final.mp4: video 1/1 (190/364) e:\\KU\\Events\\2024 BIOHACKATHON nepalensis\\data\\samples\\Bully1Final.mp4: video 1/1 (191/364) e:\\KU\\Events\\2024 BIOHACKATHON nepalensis\\data\\samples\\Bully1Final.mp4: video 1/1 (192/364) e:\\KU\\Events\\2024 BIOHACKATHON nepalensis\\data\\samples\\Bully1Final.mp4: video 1/1 (193/364) e:\\KU\\Events\\2024 BIOHACKATHON nepalensis\\data\\samples\\Bully1Final.mp4: video 1/1 (194/364) e:\\KU\\Events\\2024 BIOHACKATHON nepalensis\\data\\samples\\Bully1Final.mp4: video 1/1 (195/364) e:\\KU\\Events\\2024 BIOHACKATHON nepalensis\\data\\samples\\Bully1Final.mp4: video 1/1 (196/364) e:\\KU\\Events\\2024 BIOHACKATHON nepalensis\\data\\samples\\Bully1Final.mp4: video 1/1 (197/364) e:\\KU\\Events\\2024 BIOHACKATHON nepalensis\\data\\samples\\Bully1Final.mp4: video 1/1 (198/364) e:\\KU\\Events\\2024 BIOHACKATHON nepalensis\\data\\samples\\Bully1Final.mp4: video 1/1 (199/364) e:\\KU\\Events\\2024 BIOHACKATHON nepalensis\\data\\samples\\Bully1Final.mp4: video 1/1 (200/364) e:\\KU\\Events\\2024 BIOHACKATHON nepalensis\\data\\samples\\Bully1Final.mp4: video 1/1 (201/364) e:\\KU\\Events\\2024 BIOHACKATHON nepalensis\\data\\samples\\Bully1Final.mp4: video 1/1 (202/364) e:\\KU\\Events\\2024 BIOHACKATHON nepalensis\\data\\samples\\Bully1Final.mp4: video 1/1 (203/364) e:\\KU\\Events\\2024 BIOHACKATHON nepalensis\\data\\samples\\Bully1Final.mp4: video 1/1 (204/364) e:\\KU\\Events\\2024 BIOHACKATHON nepalensis\\data\\samples\\Bully1Final.mp4: video 1/1 (205/364) e:\\KU\\Events\\2024 BIOHACKATHON nepalensis\\data\\samples\\Bully1Final.mp4: video 1/1 (206/364) e:\\KU\\Events\\2024 BIOHACKATHON nepalensis\\data\\samples\\Bully1Final.mp4: video 1/1 (207/364) e:\\KU\\Events\\2024 BIOHACKATHON nepalensis\\data\\samples\\Bully1Final.mp4: video 1/1 (208/364) e:\\KU\\Events\\2024 BIOHACKATHON nepalensis\\data\\samples\\Bully1Final.mp4: video 1/1 (209/364) e:\\KU\\Events\\2024 BIOHACKATHON nepalensis\\data\\samples\\Bully1Final.mp4: video 1/1 (210/364) e:\\KU\\Events\\2024 BIOHACKATHON nepalensis\\data\\samples\\Bully1Final.mp4: video 1/1 (211/364) e:\\KU\\Events\\2024 BIOHACKATHON nepalensis\\data\\samples\\Bully1Final.mp4: video 1/1 (212/364) e:\\KU\\Events\\2024 BIOHACKATHON nepalensis\\data\\samples\\Bully1Final.mp4: video 1/1 (213/364) e:\\KU\\Events\\2024 BIOHACKATHON nepalensis\\data\\samples\\Bully1Final.mp4: video 1/1 (214/364) e:\\KU\\Events\\2024 BIOHACKATHON nepalensis\\data\\samples\\Bully1Final.mp4: video 1/1 (215/364) e:\\KU\\Events\\2024 BIOHACKATHON nepalensis\\data\\samples\\Bully1Final.mp4: video 1/1 (216/364) e:\\KU\\Events\\2024 BIOHACKATHON nepalensis\\data\\samples\\Bully1Final.mp4: video 1/1 (217/364) e:\\KU\\Events\\2024 BIOHACKATHON nepalensis\\data\\samples\\Bully1Final.mp4: video 1/1 (218/364) e:\\KU\\Events\\2024 BIOHACKATHON nepalensis\\data\\samples\\Bully1Final.mp4: video 1/1 (219/364) e:\\KU\\Events\\2024 BIOHACKATHON nepalensis\\data\\samples\\Bully1Final.mp4: video 1/1 (220/364) e:\\KU\\Events\\2024 BIOHACKATHON nepalensis\\data\\samples\\Bully1Final.mp4: video 1/1 (221/364) e:\\KU\\Events\\2024 BIOHACKATHON nepalensis\\data\\samples\\Bully1Final.mp4: video 1/1 (222/364) e:\\KU\\Events\\2024 BIOHACKATHON nepalensis\\data\\samples\\Bully1Final.mp4: video 1/1 (223/364) e:\\KU\\Events\\2024 BIOHACKATHON nepalensis\\data\\samples\\Bully1Final.mp4: video 1/1 (224/364) e:\\KU\\Events\\2024 BIOHACKATHON nepalensis\\data\\samples\\Bully1Final.mp4: video 1/1 (225/364) e:\\KU\\Events\\2024 BIOHACKATHON nepalensis\\data\\samples\\Bully1Final.mp4: video 1/1 (226/364) e:\\KU\\Events\\2024 BIOHACKATHON nepalensis\\data\\samples\\Bully1Final.mp4: video 1/1 (227/364) e:\\KU\\Events\\2024 BIOHACKATHON nepalensis\\data\\samples\\Bully1Final.mp4: video 1/1 (228/364) e:\\KU\\Events\\2024 BIOHACKATHON nepalensis\\data\\samples\\Bully1Final.mp4: video 1/1 (229/364) e:\\KU\\Events\\2024 BIOHACKATHON nepalensis\\data\\samples\\Bully1Final.mp4: video 1/1 (230/364) e:\\KU\\Events\\2024 BIOHACKATHON nepalensis\\data\\samples\\Bully1Final.mp4: video 1/1 (231/364) e:\\KU\\Events\\2024 BIOHACKATHON nepalensis\\data\\samples\\Bully1Final.mp4: video 1/1 (232/364) e:\\KU\\Events\\2024 BIOHACKATHON nepalensis\\data\\samples\\Bully1Final.mp4: video 1/1 (233/364) e:\\KU\\Events\\2024 BIOHACKATHON nepalensis\\data\\samples\\Bully1Final.mp4: video 1/1 (234/364) e:\\KU\\Events\\2024 BIOHACKATHON nepalensis\\data\\samples\\Bully1Final.mp4: video 1/1 (235/364) e:\\KU\\Events\\2024 BIOHACKATHON nepalensis\\data\\samples\\Bully1Final.mp4: video 1/1 (236/364) e:\\KU\\Events\\2024 BIOHACKATHON nepalensis\\data\\samples\\Bully1Final.mp4: video 1/1 (237/364) e:\\KU\\Events\\2024 BIOHACKATHON nepalensis\\data\\samples\\Bully1Final.mp4: video 1/1 (238/364) e:\\KU\\Events\\2024 BIOHACKATHON nepalensis\\data\\samples\\Bully1Final.mp4: video 1/1 (239/364) e:\\KU\\Events\\2024 BIOHACKATHON nepalensis\\data\\samples\\Bully1Final.mp4: video 1/1 (240/364) e:\\KU\\Events\\2024 BIOHACKATHON nepalensis\\data\\samples\\Bully1Final.mp4: video 1/1 (241/364) e:\\KU\\Events\\2024 BIOHACKATHON nepalensis\\data\\samples\\Bully1Final.mp4: video 1/1 (242/364) e:\\KU\\Events\\2024 BIOHACKATHON nepalensis\\data\\samples\\Bully1Final.mp4: video 1/1 (243/364) e:\\KU\\Events\\2024 BIOHACKATHON nepalensis\\data\\samples\\Bully1Final.mp4: video 1/1 (244/364) e:\\KU\\Events\\2024 BIOHACKATHON nepalensis\\data\\samples\\Bully1Final.mp4: video 1/1 (245/364) e:\\KU\\Events\\2024 BIOHACKATHON nepalensis\\data\\samples\\Bully1Final.mp4: video 1/1 (246/364) e:\\KU\\Events\\2024 BIOHACKATHON nepalensis\\data\\samples\\Bully1Final.mp4: video 1/1 (247/364) e:\\KU\\Events\\2024 BIOHACKATHON nepalensis\\data\\samples\\Bully1Final.mp4: video 1/1 (248/364) e:\\KU\\Events\\2024 BIOHACKATHON nepalensis\\data\\samples\\Bully1Final.mp4: video 1/1 (249/364) e:\\KU\\Events\\2024 BIOHACKATHON nepalensis\\data\\samples\\Bully1Final.mp4: video 1/1 (250/364) e:\\KU\\Events\\2024 BIOHACKATHON nepalensis\\data\\samples\\Bully1Final.mp4: video 1/1 (251/364) e:\\KU\\Events\\2024 BIOHACKATHON nepalensis\\data\\samples\\Bully1Final.mp4: video 1/1 (252/364) e:\\KU\\Events\\2024 BIOHACKATHON nepalensis\\data\\samples\\Bully1Final.mp4: video 1/1 (253/364) e:\\KU\\Events\\2024 BIOHACKATHON nepalensis\\data\\samples\\Bully1Final.mp4: video 1/1 (254/364) e:\\KU\\Events\\2024 BIOHACKATHON nepalensis\\data\\samples\\Bully1Final.mp4: video 1/1 (255/364) e:\\KU\\Events\\2024 BIOHACKATHON nepalensis\\data\\samples\\Bully1Final.mp4: video 1/1 (256/364) e:\\KU\\Events\\2024 BIOHACKATHON nepalensis\\data\\samples\\Bully1Final.mp4: video 1/1 (257/364) e:\\KU\\Events\\2024 BIOHACKATHON nepalensis\\data\\samples\\Bully1Final.mp4: video 1/1 (258/364) e:\\KU\\Events\\2024 BIOHACKATHON nepalensis\\data\\samples\\Bully1Final.mp4: video 1/1 (259/364) e:\\KU\\Events\\2024 BIOHACKATHON nepalensis\\data\\samples\\Bully1Final.mp4: video 1/1 (260/364) e:\\KU\\Events\\2024 BIOHACKATHON nepalensis\\data\\samples\\Bully1Final.mp4: video 1/1 (261/364) e:\\KU\\Events\\2024 BIOHACKATHON nepalensis\\data\\samples\\Bully1Final.mp4: video 1/1 (262/364) e:\\KU\\Events\\2024 BIOHACKATHON nepalensis\\data\\samples\\Bully1Final.mp4: video 1/1 (263/364) e:\\KU\\Events\\2024 BIOHACKATHON nepalensis\\data\\samples\\Bully1Final.mp4: video 1/1 (264/364) e:\\KU\\Events\\2024 BIOHACKATHON nepalensis\\data\\samples\\Bully1Final.mp4: video 1/1 (265/364) e:\\KU\\Events\\2024 BIOHACKATHON nepalensis\\data\\samples\\Bully1Final.mp4: video 1/1 (266/364) e:\\KU\\Events\\2024 BIOHACKATHON nepalensis\\data\\samples\\Bully1Final.mp4: video 1/1 (267/364) e:\\KU\\Events\\2024 BIOHACKATHON nepalensis\\data\\samples\\Bully1Final.mp4: video 1/1 (268/364) e:\\KU\\Events\\2024 BIOHACKATHON nepalensis\\data\\samples\\Bully1Final.mp4: video 1/1 (269/364) e:\\KU\\Events\\2024 BIOHACKATHON nepalensis\\data\\samples\\Bully1Final.mp4: video 1/1 (270/364) e:\\KU\\Events\\2024 BIOHACKATHON nepalensis\\data\\samples\\Bully1Final.mp4: video 1/1 (271/364) e:\\KU\\Events\\2024 BIOHACKATHON nepalensis\\data\\samples\\Bully1Final.mp4: video 1/1 (272/364) e:\\KU\\Events\\2024 BIOHACKATHON nepalensis\\data\\samples\\Bully1Final.mp4: video 1/1 (273/364) e:\\KU\\Events\\2024 BIOHACKATHON nepalensis\\data\\samples\\Bully1Final.mp4: video 1/1 (274/364) e:\\KU\\Events\\2024 BIOHACKATHON nepalensis\\data\\samples\\Bully1Final.mp4: video 1/1 (275/364) e:\\KU\\Events\\2024 BIOHACKATHON nepalensis\\data\\samples\\Bully1Final.mp4: video 1/1 (276/364) e:\\KU\\Events\\2024 BIOHACKATHON nepalensis\\data\\samples\\Bully1Final.mp4: video 1/1 (277/364) e:\\KU\\Events\\2024 BIOHACKATHON nepalensis\\data\\samples\\Bully1Final.mp4: video 1/1 (278/364) e:\\KU\\Events\\2024 BIOHACKATHON nepalensis\\data\\samples\\Bully1Final.mp4: video 1/1 (279/364) e:\\KU\\Events\\2024 BIOHACKATHON nepalensis\\data\\samples\\Bully1Final.mp4: video 1/1 (280/364) e:\\KU\\Events\\2024 BIOHACKATHON nepalensis\\data\\samples\\Bully1Final.mp4: video 1/1 (281/364) e:\\KU\\Events\\2024 BIOHACKATHON nepalensis\\data\\samples\\Bully1Final.mp4: video 1/1 (282/364) e:\\KU\\Events\\2024 BIOHACKATHON nepalensis\\data\\samples\\Bully1Final.mp4: video 1/1 (283/364) e:\\KU\\Events\\2024 BIOHACKATHON nepalensis\\data\\samples\\Bully1Final.mp4: video 1/1 (284/364) e:\\KU\\Events\\2024 BIOHACKATHON nepalensis\\data\\samples\\Bully1Final.mp4: video 1/1 (285/364) e:\\KU\\Events\\2024 BIOHACKATHON nepalensis\\data\\samples\\Bully1Final.mp4: video 1/1 (286/364) e:\\KU\\Events\\2024 BIOHACKATHON nepalensis\\data\\samples\\Bully1Final.mp4: video 1/1 (287/364) e:\\KU\\Events\\2024 BIOHACKATHON nepalensis\\data\\samples\\Bully1Final.mp4: video 1/1 (288/364) e:\\KU\\Events\\2024 BIOHACKATHON nepalensis\\data\\samples\\Bully1Final.mp4: video 1/1 (289/364) e:\\KU\\Events\\2024 BIOHACKATHON nepalensis\\data\\samples\\Bully1Final.mp4: video 1/1 (290/364) e:\\KU\\Events\\2024 BIOHACKATHON nepalensis\\data\\samples\\Bully1Final.mp4: video 1/1 (291/364) e:\\KU\\Events\\2024 BIOHACKATHON nepalensis\\data\\samples\\Bully1Final.mp4: video 1/1 (292/364) e:\\KU\\Events\\2024 BIOHACKATHON nepalensis\\data\\samples\\Bully1Final.mp4: video 1/1 (293/364) e:\\KU\\Events\\2024 BIOHACKATHON nepalensis\\data\\samples\\Bully1Final.mp4: video 1/1 (294/364) e:\\KU\\Events\\2024 BIOHACKATHON nepalensis\\data\\samples\\Bully1Final.mp4: video 1/1 (295/364) e:\\KU\\Events\\2024 BIOHACKATHON nepalensis\\data\\samples\\Bully1Final.mp4: video 1/1 (296/364) e:\\KU\\Events\\2024 BIOHACKATHON nepalensis\\data\\samples\\Bully1Final.mp4: video 1/1 (297/364) e:\\KU\\Events\\2024 BIOHACKATHON nepalensis\\data\\samples\\Bully1Final.mp4: video 1/1 (298/364) e:\\KU\\Events\\2024 BIOHACKATHON nepalensis\\data\\samples\\Bully1Final.mp4: video 1/1 (299/364) e:\\KU\\Events\\2024 BIOHACKATHON nepalensis\\data\\samples\\Bully1Final.mp4: video 1/1 (300/364) e:\\KU\\Events\\2024 BIOHACKATHON nepalensis\\data\\samples\\Bully1Final.mp4: video 1/1 (301/364) e:\\KU\\Events\\2024 BIOHACKATHON nepalensis\\data\\samples\\Bully1Final.mp4: video 1/1 (302/364) e:\\KU\\Events\\2024 BIOHACKATHON nepalensis\\data\\samples\\Bully1Final.mp4: video 1/1 (303/364) e:\\KU\\Events\\2024 BIOHACKATHON nepalensis\\data\\samples\\Bully1Final.mp4: video 1/1 (304/364) e:\\KU\\Events\\2024 BIOHACKATHON nepalensis\\data\\samples\\Bully1Final.mp4: video 1/1 (305/364) e:\\KU\\Events\\2024 BIOHACKATHON nepalensis\\data\\samples\\Bully1Final.mp4: video 1/1 (306/364) e:\\KU\\Events\\2024 BIOHACKATHON nepalensis\\data\\samples\\Bully1Final.mp4: video 1/1 (307/364) e:\\KU\\Events\\2024 BIOHACKATHON nepalensis\\data\\samples\\Bully1Final.mp4: video 1/1 (308/364) e:\\KU\\Events\\2024 BIOHACKATHON nepalensis\\data\\samples\\Bully1Final.mp4: video 1/1 (309/364) e:\\KU\\Events\\2024 BIOHACKATHON nepalensis\\data\\samples\\Bully1Final.mp4: video 1/1 (310/364) e:\\KU\\Events\\2024 BIOHACKATHON nepalensis\\data\\samples\\Bully1Final.mp4: video 1/1 (311/364) e:\\KU\\Events\\2024 BIOHACKATHON nepalensis\\data\\samples\\Bully1Final.mp4: video 1/1 (312/364) e:\\KU\\Events\\2024 BIOHACKATHON nepalensis\\data\\samples\\Bully1Final.mp4: video 1/1 (313/364) e:\\KU\\Events\\2024 BIOHACKATHON nepalensis\\data\\samples\\Bully1Final.mp4: video 1/1 (314/364) e:\\KU\\Events\\2024 BIOHACKATHON nepalensis\\data\\samples\\Bully1Final.mp4: video 1/1 (315/364) e:\\KU\\Events\\2024 BIOHACKATHON nepalensis\\data\\samples\\Bully1Final.mp4: video 1/1 (316/364) e:\\KU\\Events\\2024 BIOHACKATHON nepalensis\\data\\samples\\Bully1Final.mp4: video 1/1 (317/364) e:\\KU\\Events\\2024 BIOHACKATHON nepalensis\\data\\samples\\Bully1Final.mp4: video 1/1 (318/364) e:\\KU\\Events\\2024 BIOHACKATHON nepalensis\\data\\samples\\Bully1Final.mp4: video 1/1 (319/364) e:\\KU\\Events\\2024 BIOHACKATHON nepalensis\\data\\samples\\Bully1Final.mp4: video 1/1 (320/364) e:\\KU\\Events\\2024 BIOHACKATHON nepalensis\\data\\samples\\Bully1Final.mp4: video 1/1 (321/364) e:\\KU\\Events\\2024 BIOHACKATHON nepalensis\\data\\samples\\Bully1Final.mp4: video 1/1 (322/364) e:\\KU\\Events\\2024 BIOHACKATHON nepalensis\\data\\samples\\Bully1Final.mp4: video 1/1 (323/364) e:\\KU\\Events\\2024 BIOHACKATHON nepalensis\\data\\samples\\Bully1Final.mp4: video 1/1 (324/364) e:\\KU\\Events\\2024 BIOHACKATHON nepalensis\\data\\samples\\Bully1Final.mp4: video 1/1 (325/364) e:\\KU\\Events\\2024 BIOHACKATHON nepalensis\\data\\samples\\Bully1Final.mp4: video 1/1 (326/364) e:\\KU\\Events\\2024 BIOHACKATHON nepalensis\\data\\samples\\Bully1Final.mp4: video 1/1 (327/364) e:\\KU\\Events\\2024 BIOHACKATHON nepalensis\\data\\samples\\Bully1Final.mp4: video 1/1 (328/364) e:\\KU\\Events\\2024 BIOHACKATHON nepalensis\\data\\samples\\Bully1Final.mp4: video 1/1 (329/364) e:\\KU\\Events\\2024 BIOHACKATHON nepalensis\\data\\samples\\Bully1Final.mp4: video 1/1 (330/364) e:\\KU\\Events\\2024 BIOHACKATHON nepalensis\\data\\samples\\Bully1Final.mp4: video 1/1 (331/364) e:\\KU\\Events\\2024 BIOHACKATHON nepalensis\\data\\samples\\Bully1Final.mp4: video 1/1 (332/364) e:\\KU\\Events\\2024 BIOHACKATHON nepalensis\\data\\samples\\Bully1Final.mp4: video 1/1 (333/364) e:\\KU\\Events\\2024 BIOHACKATHON nepalensis\\data\\samples\\Bully1Final.mp4: video 1/1 (334/364) e:\\KU\\Events\\2024 BIOHACKATHON nepalensis\\data\\samples\\Bully1Final.mp4: video 1/1 (335/364) e:\\KU\\Events\\2024 BIOHACKATHON nepalensis\\data\\samples\\Bully1Final.mp4: video 1/1 (336/364) e:\\KU\\Events\\2024 BIOHACKATHON nepalensis\\data\\samples\\Bully1Final.mp4: video 1/1 (337/364) e:\\KU\\Events\\2024 BIOHACKATHON nepalensis\\data\\samples\\Bully1Final.mp4: video 1/1 (338/364) e:\\KU\\Events\\2024 BIOHACKATHON nepalensis\\data\\samples\\Bully1Final.mp4: video 1/1 (339/364) e:\\KU\\Events\\2024 BIOHACKATHON nepalensis\\data\\samples\\Bully1Final.mp4: video 1/1 (340/364) e:\\KU\\Events\\2024 BIOHACKATHON nepalensis\\data\\samples\\Bully1Final.mp4: video 1/1 (341/364) e:\\KU\\Events\\2024 BIOHACKATHON nepalensis\\data\\samples\\Bully1Final.mp4: video 1/1 (342/364) e:\\KU\\Events\\2024 BIOHACKATHON nepalensis\\data\\samples\\Bully1Final.mp4: video 1/1 (343/364) e:\\KU\\Events\\2024 BIOHACKATHON nepalensis\\data\\samples\\Bully1Final.mp4: video 1/1 (344/364) e:\\KU\\Events\\2024 BIOHACKATHON nepalensis\\data\\samples\\Bully1Final.mp4: video 1/1 (345/364) e:\\KU\\Events\\2024 BIOHACKATHON nepalensis\\data\\samples\\Bully1Final.mp4: video 1/1 (346/364) e:\\KU\\Events\\2024 BIOHACKATHON nepalensis\\data\\samples\\Bully1Final.mp4: video 1/1 (347/364) e:\\KU\\Events\\2024 BIOHACKATHON nepalensis\\data\\samples\\Bully1Final.mp4: video 1/1 (348/364) e:\\KU\\Events\\2024 BIOHACKATHON nepalensis\\data\\samples\\Bully1Final.mp4: video 1/1 (349/364) e:\\KU\\Events\\2024 BIOHACKATHON nepalensis\\data\\samples\\Bully1Final.mp4: video 1/1 (350/364) e:\\KU\\Events\\2024 BIOHACKATHON nepalensis\\data\\samples\\Bully1Final.mp4: video 1/1 (351/364) e:\\KU\\Events\\2024 BIOHACKATHON nepalensis\\data\\samples\\Bully1Final.mp4: video 1/1 (352/364) e:\\KU\\Events\\2024 BIOHACKATHON nepalensis\\data\\samples\\Bully1Final.mp4: video 1/1 (353/364) e:\\KU\\Events\\2024 BIOHACKATHON nepalensis\\data\\samples\\Bully1Final.mp4: video 1/1 (354/364) e:\\KU\\Events\\2024 BIOHACKATHON nepalensis\\data\\samples\\Bully1Final.mp4: video 1/1 (355/364) e:\\KU\\Events\\2024 BIOHACKATHON nepalensis\\data\\samples\\Bully1Final.mp4: video 1/1 (356/364) e:\\KU\\Events\\2024 BIOHACKATHON nepalensis\\data\\samples\\Bully1Final.mp4: video 1/1 (357/364) e:\\KU\\Events\\2024 BIOHACKATHON nepalensis\\data\\samples\\Bully1Final.mp4: video 1/1 (358/364) e:\\KU\\Events\\2024 BIOHACKATHON nepalensis\\data\\samples\\Bully1Final.mp4: video 1/1 (359/364) e:\\KU\\Events\\2024 BIOHACKATHON nepalensis\\data\\samples\\Bully1Final.mp4: video 1/1 (360/364) e:\\KU\\Events\\2024 BIOHACKATHON nepalensis\\data\\samples\\Bully1Final.mp4: video 1/1 (361/364) e:\\KU\\Events\\2024 BIOHACKATHON nepalensis\\data\\samples\\Bully1Final.mp4: video 1/1 (362/364) e:\\KU\\Events\\2024 BIOHACKATHON nepalensis\\data\\samples\\Bully1Final.mp4: video 1/1 (363/364) e:\\KU\\Events\\2024 BIOHACKATHON nepalensis\\data\\samples\\Bully1Final.mp4: video 1/1 (364/364) e:\\KU\\Events\\2024 BIOHACKATHON nepalensis\\data\\samples\\Bully1Final.mp4: "
     ]
    }
   ],
   "source": [
    "\n",
    "# Initialize necessary functions\n",
    "def get_face_embedding(face_image):\n",
    "    \"\"\"Get a unique embedding for a given face image.\"\"\"\n",
    "    embedding = DeepFace.represent(face_image, model_name='VGG-Face', enforce_detection=False)\n",
    "    return embedding[0]['embedding']  # Returns a 128D vector (for VGG-Face)\n",
    "\n",
    "def get_face_match(new_face_embedding, existing_faces_embeddings, threshold=0.5):\n",
    "    \"\"\"Compare the new face embedding with existing embeddings to find the closest match.\"\"\"\n",
    "    for i, existing_embedding in enumerate(existing_faces_embeddings):\n",
    "        similarity = cosine_similarity([new_face_embedding], [existing_embedding])\n",
    "        if similarity > threshold:\n",
    "            return i  # Return the index of the matched face\n",
    "    return None  # No match found\n",
    "\n",
    "def calculate_distance(bbox1, bbox2):\n",
    "    \"\"\"Calculate Euclidean distance between the centers of two bounding boxes.\"\"\"\n",
    "    x1_center = (bbox1[0] + bbox1[2]) / 2\n",
    "    y1_center = (bbox1[1] + bbox1[3]) / 2\n",
    "    x2_center = (bbox2[0] + bbox2[2]) / 2\n",
    "    y2_center = (bbox2[1] + bbox2[3]) / 2\n",
    "    return math.sqrt((x2_center - x1_center) ** 2 + (y2_center - y1_center) ** 2)\n",
    "\n",
    "# Main function to process detections\n",
    "def process_detections_with_distances(video_path, save_path, img_size=512, conf_thres=0.5, iou_thres=0.45):\n",
    "    webcam = False\n",
    "\n",
    "    # Set up device and model\n",
    "    set_logging()\n",
    "    device = select_device('')\n",
    "    init(device)\n",
    "    half = device.type != 'cpu'\n",
    "    model = attempt_load(\"weights/yolov7-tiny.pt\", map_location=device)\n",
    "    stride = int(model.stride.max())\n",
    "    img_size = check_img_size(img_size, s=stride)\n",
    "    if half:\n",
    "        model.half()\n",
    "\n",
    "    dataset = LoadImages(video_path, img_size=img_size, stride=stride)\n",
    "\n",
    "    if device.type != 'cpu':\n",
    "        model(torch.zeros(1, 3, img_size, img_size).to(device).type_as(next(model.parameters())))\n",
    "\n",
    "    all_results = []\n",
    "    frame_number = 0\n",
    "    existing_faces_embeddings = []  # Store embeddings of faces detected in previous frames\n",
    "\n",
    "    # Process video frames\n",
    "    for path, img, im0s, vid_cap in dataset:\n",
    "        img = torch.from_numpy(img).to(device)\n",
    "        img = img.half() if half else img.float()\n",
    "        img /= 255.0\n",
    "        if img.ndimension() == 3:\n",
    "            img = img.unsqueeze(0)\n",
    "\n",
    "        pred = model(img)[0]\n",
    "        pred = non_max_suppression(pred, conf_thres, iou_thres)\n",
    "\n",
    "        frame_detections = []\n",
    "        for det in pred:\n",
    "            if len(det):\n",
    "                det[:, :4] = scale_coords(img.shape[2:], det[:, :4], im0s.shape).round()\n",
    "                images = []\n",
    "                for det_item in det:\n",
    "                    xyxy, conf, cls = det_item[:4], det_item[4], int(det_item[5])\n",
    "                    x1, y1, x2, y2 = map(int, xyxy)\n",
    "                    images.append(im0s[y1:y2, x1:x2])\n",
    "\n",
    "                if images:\n",
    "                    emotions = detect_emotion(images)\n",
    "\n",
    "                for i, det_item in enumerate(det):\n",
    "                    xyxy, conf, cls = det_item[:4], det_item[4], int(det_item[5])\n",
    "                    x1, y1, x2, y2 = map(int, xyxy)\n",
    "                    emotion_label, emotion_confidence = emotions[i]\n",
    "\n",
    "                    face_embedding = get_face_embedding(images[i])  # Get embedding of the face\n",
    "                    matched_node_id = get_face_match(face_embedding, existing_faces_embeddings)\n",
    "\n",
    "                    if matched_node_id is None:\n",
    "                        # Assign a new node ID if no match found\n",
    "                        node_id = len(existing_faces_embeddings)\n",
    "                        existing_faces_embeddings.append(face_embedding)\n",
    "                    else:\n",
    "                        # Assign the existing node ID if a match is found\n",
    "                        node_id = matched_node_id\n",
    "                    emot,perc = extract_emotion_and_percentage(emotion_label)\n",
    "                    detection_data = {\n",
    "                        \"node_id\": node_id,\n",
    "                        \"bbox\": [x1, y1, x2, y2],\n",
    "                        \"emotion\": emot,\n",
    "                        \"percentage\": float(perc),\n",
    "                    }\n",
    "                    frame_detections.append(detection_data)\n",
    "        # Compute distances between all detected nodes\n",
    "        for det in frame_detections:\n",
    "            det[\"distances\"] = [\n",
    "                {\"node_id\": other[\"node_id\"], \"distance\": calculate_distance(det[\"bbox\"], other[\"bbox\"])}\n",
    "                for other in frame_detections if det[\"node_id\"] != other[\"node_id\"]\n",
    "            ]       \n",
    "        all_results.append({\"frame\": frame_number, \"detections\": frame_detections})\n",
    "        all_results.append({\"frame\": frame_number, \"detections\": frame_detections})\n",
    "        frame_number += 1\n",
    "\n",
    "    # Save results to JSON file\n",
    "    with open(save_path, \"w\") as f:\n",
    "        json.dump(all_results, f, indent=4)\n",
    "\n",
    "\n",
    "process_detections_with_distances(video_path, save_path)"
   ]
  },
  {
   "cell_type": "markdown",
   "metadata": {},
   "source": [
    "# Display the nodes and emotions\n",
    "Used the file \"Attempts\\A graph video with fixed size and node.py\""
   ]
  },
  {
   "cell_type": "code",
   "execution_count": 30,
   "metadata": {},
   "outputs": [
    {
     "data": {
      "text/html": [
       "\n",
       "    <video width=\"640\" height=\"480\" controls>\n",
       "        <source src=\"./data/output/GraphWithEmotions.mp4\" type=\"video/mp4\">\n",
       "        Your browser does not support the video tag.\n",
       "    </video>\n",
       "    "
      ],
      "text/plain": [
       "<IPython.core.display.HTML object>"
      ]
     },
     "metadata": {},
     "output_type": "display_data"
    }
   ],
   "source": [
    "display_video('./data/output/GraphWithEmotions.mp4'  )"
   ]
  },
  {
   "cell_type": "markdown",
   "metadata": {},
   "source": [
    "# Relative Strength Index"
   ]
  },
  {
   "cell_type": "code",
   "execution_count": null,
   "metadata": {},
   "outputs": [],
   "source": [
    "import pandas as pd\n",
    "import numpy as np\n",
    "import matplotlib.pyplot as plt\n",
    "from matplotlib.animation import FuncAnimation, FFMpegWriter\n",
    "\n",
    "# Load data from CSV (replace this with the actual file path)\n",
    "df = pd.read_csv('node_data.csv', header=0)\n",
    "\n",
    "# Function to calculate RSI for each node\n",
    "def calculate_rsi(df, period=50):\n",
    "    delta = df.diff()  # Calculate price change between consecutive periods\n",
    "    gain = (delta.where(delta > 0, 0)).rolling(window=period).mean()  # Average gain\n",
    "    loss = (-delta.where(delta < 0, 0)).rolling(window=period).mean()  # Average loss\n",
    "    \n",
    "    rs = gain / loss  # Relative Strength\n",
    "    rsi = 100 - (100 / (1 + rs))  # RSI formula\n",
    "    return rsi\n",
    "\n",
    "# Calculate RSI for each node\n",
    "rsi = calculate_rsi(df)\n",
    "\n",
    "# Initialize figure\n",
    "fig, axes = plt.subplots(df.shape[1], 1, figsize=(10, 8), sharex=True)\n",
    "\n",
    "# Function to update each frame of the animation\n",
    "def update(frame):\n",
    "    print(frame)\n",
    "    for i, ax in enumerate(axes):\n",
    "        ax.clear()\n",
    "        ax.plot(df.index[:frame], rsi.iloc[:frame, i], label=f'RSI Node_{i}')\n",
    "        ax.axhline(70, color='red', linestyle='--', label='Threshold (70)')\n",
    "        ax.axhline(30, color='green', linestyle='--', label='Oversold (30)')\n",
    "        ax.set_title(f'Relative Strength Index for Node_{i}')\n",
    "        ax.legend(loc='upper left')\n",
    "    plt.tight_layout()\n",
    "\n",
    "# Create animation\n",
    "frames = len(df)  # Number of frames equals the number of rows in the data\n",
    "ani = FuncAnimation(fig, update, frames=frames, interval=(1000/30), repeat=False)  # 30 FPS\n",
    "\n",
    "# Save animation as a video\n",
    "output_path = \"rsi_animation.mp4\"\n",
    "writer = FFMpegWriter(fps=30, metadata=dict(artist='Your Name'), bitrate=1800)\n",
    "ani.save(output_path, writer=writer)\n",
    "print(f\"Video saved at {output_path}\")\n"
   ]
  }
 ],
 "metadata": {
  "kernelspec": {
   "display_name": "nepalensis",
   "language": "python",
   "name": "python3"
  },
  "language_info": {
   "codemirror_mode": {
    "name": "ipython",
    "version": 3
   },
   "file_extension": ".py",
   "mimetype": "text/x-python",
   "name": "python",
   "nbconvert_exporter": "python",
   "pygments_lexer": "ipython3",
   "version": "3.11.11"
  }
 },
 "nbformat": 4,
 "nbformat_minor": 2
}
